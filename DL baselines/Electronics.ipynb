{
  "nbformat": 4,
  "nbformat_minor": 0,
  "metadata": {
    "colab": {
      "name": "Electronics.ipynb",
      "version": "0.3.2",
      "provenance": [],
      "collapsed_sections": []
    },
    "kernelspec": {
      "name": "python3",
      "display_name": "Python 3"
    },
    "accelerator": "GPU"
  },
  "cells": [
    {
      "cell_type": "code",
      "metadata": {
        "id": "ZFefv4k6ohaL",
        "colab_type": "code",
        "colab": {}
      },
      "source": [
        "!wget https://raw.githubusercontent.com/avinashsai/Cross-domain-sentiment-analysis/master/Dataset/Actualdata/Books/Bookstrain.txt\n",
        "!wget https://raw.githubusercontent.com/avinashsai/Cross-domain-sentiment-analysis/master/Dataset/Actualdata/Books/Bookstest.txt\n",
        "  \n",
        "!wget https://raw.githubusercontent.com/avinashsai/Cross-domain-sentiment-analysis/master/Dataset/Actualdata/Dvd/Dvdtrain.txt\n",
        "!wget https://raw.githubusercontent.com/avinashsai/Cross-domain-sentiment-analysis/master/Dataset/Actualdata/Dvd/Dvdtest.txt\n",
        "  \n",
        "!wget https://raw.githubusercontent.com/avinashsai/Cross-domain-sentiment-analysis/master/Dataset/Actualdata/Electronics/Electronicstrain.txt\n",
        "!wget https://raw.githubusercontent.com/avinashsai/Cross-domain-sentiment-analysis/master/Dataset/Actualdata/Electronics/Electronicstest.txt\n",
        "  \n",
        "!wget https://raw.githubusercontent.com/avinashsai/Cross-domain-sentiment-analysis/master/Dataset/Actualdata/Kitchen/Kitchentrain.txt\n",
        "!wget https://raw.githubusercontent.com/avinashsai/Cross-domain-sentiment-analysis/master/Dataset/Actualdata/Kitchen/Kitchentest.txt"
      ],
      "execution_count": 0,
      "outputs": []
    },
    {
      "cell_type": "code",
      "metadata": {
        "id": "X6_3J6JupWTm",
        "colab_type": "code",
        "colab": {}
      },
      "source": [
        "embedding_index = {}\n",
        "with open('glove.840B.300d.txt','r',encoding='utf-8') as f:\n",
        "  for line in f.readlines():\n",
        "    ws = line.split(' ')\n",
        "    word = ws[0]\n",
        "    vector = np.asarray(ws[1:],'float32')\n",
        "    embedding_index[word] = vector"
      ],
      "execution_count": 0,
      "outputs": []
    },
    {
      "cell_type": "code",
      "metadata": {
        "id": "jmByk8y5QpI_",
        "colab_type": "code",
        "colab": {}
      },
      "source": [
        "import os\n",
        "import re\n",
        "import sys\n",
        "import pickle\n",
        "import time\n",
        "import copy\n",
        "from copy import deepcopy\n",
        "import numpy as np\n",
        "import pandas as pd\n",
        "import sklearn\n",
        "from sklearn.utils import shuffle\n",
        "from sklearn.model_selection import train_test_split,StratifiedKFold\n",
        "from sklearn.metrics import accuracy_score,f1_score,confusion_matrix\n",
        "from nltk.tokenize import word_tokenize\n",
        "from nltk.corpus import stopwords\n",
        "import gensim\n",
        "from gensim.models import doc2vec,fasttext,FastText\n",
        "from gensim.models.doc2vec import Doc2Vec, TaggedDocument"
      ],
      "execution_count": 0,
      "outputs": []
    },
    {
      "cell_type": "code",
      "metadata": {
        "id": "Uw9v671ZQ_9X",
        "colab_type": "code",
        "outputId": "d6f79665-0af4-4391-8124-8a9dafc54e36",
        "colab": {
          "base_uri": "https://localhost:8080/",
          "height": 34
        }
      },
      "source": [
        "import tensorflow as tf\n",
        "import keras\n",
        "from keras.layers import *\n",
        "from keras.models import Model,Sequential\n",
        "from keras.callbacks import *\n",
        "from keras.metrics import *\n",
        "import keras.backend as K\n",
        "from keras.engine import Layer\n",
        "from keras.preprocessing.text import Tokenizer\n",
        "from keras.preprocessing.sequence import pad_sequences"
      ],
      "execution_count": 3,
      "outputs": [
        {
          "output_type": "stream",
          "text": [
            "Using TensorFlow backend.\n"
          ],
          "name": "stderr"
        }
      ]
    },
    {
      "cell_type": "code",
      "metadata": {
        "id": "E2bt-b4JRV0_",
        "colab_type": "code",
        "colab": {}
      },
      "source": [
        "def preprocess(string):\n",
        "    string = re.sub(r\"[^A-Za-z0-9(),!?\\'\\`]\", \" \", string)\n",
        "    string = re.sub(r\"\\'s\", \" \\'s\", string)\n",
        "    string = re.sub(r\"\\'ve\", \" \\'ve\", string)\n",
        "    string = re.sub(r\"n\\'t\", \" n\\'t\", string)\n",
        "    string = re.sub(r\"\\'re\", \" \\'re\", string)\n",
        "    string = re.sub(r\"\\'d\", \" \\'d\", string)\n",
        "    string = re.sub(r\"\\'ll\", \" \\'ll\", string)\n",
        "    string = re.sub(r\",\", \" , \", string)\n",
        "    string = re.sub(r\"!\", \" ! \", string)\n",
        "    string = re.sub(r\"\\(\", \" \\( \", string)\n",
        "    string = re.sub(r\"\\)\", \" \\) \", string)\n",
        "    string = re.sub(r\"\\?\", \" \\? \", string)\n",
        "    string = re.sub(r\"\\s{2,}\", \" \", string)\n",
        "    return string.lower().strip()"
      ],
      "execution_count": 0,
      "outputs": []
    },
    {
      "cell_type": "code",
      "metadata": {
        "id": "XE2DwTRjRa1F",
        "colab_type": "code",
        "colab": {}
      },
      "source": [
        "Xtrain = []\n",
        "with open('Electronicstrain.txt','r',encoding='latin1') as f:\n",
        "    for line in f.readlines():\n",
        "        Xtrain.append(preprocess(line[:-1]))\n",
        "\n",
        "ytrain = np.zeros(1600)\n",
        "ytrain[0:800] = 1\n",
        "Xtrain,ytrain = shuffle(Xtrain,ytrain,random_state=0)\n",
        "Xtrain,Xval,ytrain,yval = train_test_split(Xtrain,ytrain,test_size=0.2,random_state=42)"
      ],
      "execution_count": 0,
      "outputs": []
    },
    {
      "cell_type": "code",
      "metadata": {
        "id": "IgFR7p-wRc51",
        "colab_type": "code",
        "colab": {}
      },
      "source": [
        "Xtest = []\n",
        "with open('Electronicstest.txt','r',encoding='latin1') as f:\n",
        "    for line in f.readlines():\n",
        "        Xtest.append(preprocess(line[:-1]))\n",
        "\n",
        "ytest = np.zeros(400)\n",
        "ytest[0:200] = 1\n",
        "Xtest,ytest = shuffle(Xtest,ytest,random_state=0)"
      ],
      "execution_count": 0,
      "outputs": []
    },
    {
      "cell_type": "code",
      "metadata": {
        "id": "-YrShjg0RdAT",
        "colab_type": "code",
        "colab": {}
      },
      "source": [
        "train_l = len(Xtrain)\n",
        "val_l = len(Xval)\n",
        "test_l = len(Xtest)"
      ],
      "execution_count": 0,
      "outputs": []
    },
    {
      "cell_type": "code",
      "metadata": {
        "id": "73F5iublRjhV",
        "colab_type": "code",
        "colab": {}
      },
      "source": [
        "words = []\n",
        "for sentence in Xtrain:\n",
        "    words.append(sentence.split())"
      ],
      "execution_count": 0,
      "outputs": []
    },
    {
      "cell_type": "code",
      "metadata": {
        "id": "mZR7wY1CRlox",
        "colab_type": "code",
        "colab": {}
      },
      "source": [
        "maxsenlen = 60\n",
        "batchsize = 32\n",
        "numepochs = 30"
      ],
      "execution_count": 0,
      "outputs": []
    },
    {
      "cell_type": "markdown",
      "metadata": {
        "id": "lzgxX99kQj3I",
        "colab_type": "text"
      },
      "source": [
        "## FastText + LSTM"
      ]
    },
    {
      "cell_type": "code",
      "metadata": {
        "id": "3cyFCq_-pl00",
        "colab_type": "code",
        "colab": {}
      },
      "source": [
        "mincount = 1\n",
        "vecsize = 100\n",
        "winsize = 5\n",
        "totalepoch = 20"
      ],
      "execution_count": 0,
      "outputs": []
    },
    {
      "cell_type": "code",
      "metadata": {
        "id": "toTI6iV3B7f9",
        "colab_type": "code",
        "colab": {}
      },
      "source": [
        "np.random.seed(0)\n",
        "ft = FastText(min_count=mincount,size=vecsize,window=winsize)\n",
        "ft.build_vocab(sentences=words)\n",
        "ft.train(sentences=words,total_examples=len(words),epochs=totalepoch)"
      ],
      "execution_count": 0,
      "outputs": []
    },
    {
      "cell_type": "code",
      "metadata": {
        "id": "4FzzS4J2RtEC",
        "colab_type": "code",
        "colab": {}
      },
      "source": [
        "def load_vectors(sentence):\n",
        "    senlen = len(sentence.split())\n",
        "    maxlen = min(maxsenlen,senlen)\n",
        "    vec = [ft.wv[sentence[i]] for i  in range(maxlen) if sentence[i] in ft.wv.vocab]\n",
        "    if(len(vec)<maxsenlen):\n",
        "        vec+=[np.zeros(vecsize) for i in range(len(vec),maxsenlen)]\n",
        "    return np.asarray(vec)"
      ],
      "execution_count": 0,
      "outputs": []
    },
    {
      "cell_type": "code",
      "metadata": {
        "id": "lwIGXDIHRtHb",
        "colab_type": "code",
        "colab": {}
      },
      "source": [
        "train_vectors = np.zeros((train_l,maxsenlen,vecsize))\n",
        "for i in range(train_l):\n",
        "    train_vectors[i,:,:] = load_vectors(Xtrain[i])"
      ],
      "execution_count": 0,
      "outputs": []
    },
    {
      "cell_type": "code",
      "metadata": {
        "id": "1NtMN159RtKP",
        "colab_type": "code",
        "colab": {}
      },
      "source": [
        "val_vectors = np.zeros((val_l,maxsenlen,vecsize))\n",
        "for i in range(val_l):\n",
        "    val_vectors[i,:,:] = load_vectors(Xval[i])"
      ],
      "execution_count": 0,
      "outputs": []
    },
    {
      "cell_type": "code",
      "metadata": {
        "id": "TgkpNYs8RtOD",
        "colab_type": "code",
        "colab": {}
      },
      "source": [
        "test_vectors = np.zeros((test_l,maxsenlen,vecsize))\n",
        "for i in range(test_l):\n",
        "    test_vectors[i,:,:] = load_vectors(Xtest[i])"
      ],
      "execution_count": 0,
      "outputs": []
    },
    {
      "cell_type": "code",
      "metadata": {
        "id": "L1UAJslhRtRA",
        "colab_type": "code",
        "colab": {}
      },
      "source": [
        "def model_lstm():\n",
        "    inp = Input(shape=(maxsenlen,vecsize))\n",
        "    lstm1 = LSTM(100,recurrent_dropout=0.2,return_sequences=True)(inp)\n",
        "    lstm1 = LSTM(50,return_sequences=False)(lstm1)\n",
        "    out = Dense(1,activation='sigmoid')(lstm1)\n",
        "    \n",
        "    m1 = Model(inputs=inp,outputs=out)\n",
        "    return m1"
      ],
      "execution_count": 0,
      "outputs": []
    },
    {
      "cell_type": "code",
      "metadata": {
        "id": "xytBMbhMRtVO",
        "colab_type": "code",
        "outputId": "134ffbd5-3a08-46db-f0d9-f5a686da2f21",
        "colab": {
          "base_uri": "https://localhost:8080/",
          "height": 340
        }
      },
      "source": [
        "runs = 5\n",
        "times= []\n",
        "avg_acc= 0.0\n",
        "avg_f1 = 0.0\n",
        "for run in range(runs):\n",
        "    model1 = model_lstm()\n",
        "    if(run==0):\n",
        "        print(model1.summary())\n",
        "    model1.compile(loss='binary_crossentropy',optimizer='adam',metrics=['accuracy'])\n",
        "    starttime = time.time()\n",
        "    stop = EarlyStopping(monitor='val_loss', min_delta=0, patience=10, verbose=0, mode='min')\n",
        "    check = ModelCheckpoint('temp.h5' ,monitor='val_loss', verbose=0, save_best_only=True, save_weights_only=True, mode='min', period=1)\n",
        "    model1.fit(train_vectors,ytrain,validation_data=(val_vectors,yval),callbacks=[stop,check],batch_size=batchsize,\n",
        "              epochs=numepochs,verbose=0)\n",
        "    times.append(time.time()-starttime)\n",
        "    ypred = model1.predict(test_vectors,128)\n",
        "    ypred = (ypred>0.5)\n",
        "    avg_f1+=f1_score(ypred,ytest)\n",
        "    avg_acc+=accuracy_score(ypred,ytest)\n",
        "    \n",
        "print(\"F1 Score {} \".format(avg_f1/runs))\n",
        "print(\"Accuracy Score {} \".format(avg_acc/runs))\n",
        "print(\"Avg_time  {}\".format(np.mean(np.asarray(times))))"
      ],
      "execution_count": 70,
      "outputs": [
        {
          "output_type": "stream",
          "text": [
            "_________________________________________________________________\n",
            "Layer (type)                 Output Shape              Param #   \n",
            "=================================================================\n",
            "input_39 (InputLayer)        (None, 60, 100)           0         \n",
            "_________________________________________________________________\n",
            "lstm_32 (LSTM)               (None, 60, 100)           80400     \n",
            "_________________________________________________________________\n",
            "lstm_33 (LSTM)               (None, 50)                30200     \n",
            "_________________________________________________________________\n",
            "dense_66 (Dense)             (None, 1)                 51        \n",
            "=================================================================\n",
            "Total params: 110,651\n",
            "Trainable params: 110,651\n",
            "Non-trainable params: 0\n",
            "_________________________________________________________________\n",
            "None\n",
            "F1 Score 0.5507108208795483 \n",
            "Accuracy Score 0.5439999999999999 \n",
            "Avg_time  192.57592730522157\n"
          ],
          "name": "stdout"
        }
      ]
    },
    {
      "cell_type": "markdown",
      "metadata": {
        "id": "GVPJEPR5R7ob",
        "colab_type": "text"
      },
      "source": [
        "## PV(DBOW)+FNN"
      ]
    },
    {
      "cell_type": "code",
      "metadata": {
        "id": "fxAwuGLrR3x8",
        "colab_type": "code",
        "colab": {}
      },
      "source": [
        "tagged_documents = [TaggedDocument(doc, [i]) for i, doc in enumerate(words)]"
      ],
      "execution_count": 0,
      "outputs": []
    },
    {
      "cell_type": "code",
      "metadata": {
        "id": "xlW53X-eR36R",
        "colab_type": "code",
        "colab": {}
      },
      "source": [
        "np.random.seed(0)\n",
        "pv_dbow = Doc2Vec(vector_size=vecsize, window=2, min_count=1, workers=4)\n",
        "pv_dbow.build_vocab(tagged_documents)\n",
        "pv_dbow.train(tagged_documents,total_examples=pv_dbow.corpus_count,epochs=20)"
      ],
      "execution_count": 0,
      "outputs": []
    },
    {
      "cell_type": "code",
      "metadata": {
        "id": "GfWjxEolR4Am",
        "colab_type": "code",
        "colab": {}
      },
      "source": [
        "train_vectors = np.zeros((train_l,vecsize))\n",
        "for i in range(train_l):\n",
        "  train_vectors[i] = pv_dbow.infer_vector(Xtrain[i].split())"
      ],
      "execution_count": 0,
      "outputs": []
    },
    {
      "cell_type": "code",
      "metadata": {
        "id": "LzjB5uzSAOXI",
        "colab_type": "code",
        "colab": {}
      },
      "source": [
        "val_vectors = np.zeros((val_l,vecsize))\n",
        "for i in range(val_l):\n",
        "  val_vectors[i] = pv_dbow.infer_vector(Xval[i].split())"
      ],
      "execution_count": 0,
      "outputs": []
    },
    {
      "cell_type": "code",
      "metadata": {
        "id": "hUmwzT4rAWoQ",
        "colab_type": "code",
        "colab": {}
      },
      "source": [
        "test_vectors = np.zeros((test_l,vecsize))\n",
        "for i in range(test_l):\n",
        "  test_vectors[i] = pv_dbow.infer_vector(Xtest[i].split())"
      ],
      "execution_count": 0,
      "outputs": []
    },
    {
      "cell_type": "code",
      "metadata": {
        "id": "Emn78yDNAeAs",
        "colab_type": "code",
        "colab": {}
      },
      "source": [
        "def model_dense():\n",
        "    inp = Input(shape=(vecsize,))\n",
        "    dense1 = Dense(50,activation='relu')(inp)\n",
        "    dense1 = Dropout(0.5)(dense1)\n",
        "    dense1 = Dense(16,activation='relu')(dense1)\n",
        "    dense1 = Dropout(0.5)(dense1)\n",
        "    out = Dense(1,activation='sigmoid')(dense1)\n",
        "    m1 = Model(inputs=inp,outputs=out)\n",
        "    return m1"
      ],
      "execution_count": 0,
      "outputs": []
    },
    {
      "cell_type": "code",
      "metadata": {
        "id": "TV1_Vi9SAeHb",
        "colab_type": "code",
        "colab": {
          "base_uri": "https://localhost:8080/",
          "height": 408
        },
        "outputId": "69625e67-d719-4a4e-97a5-333ae26132d5"
      },
      "source": [
        "np.random.seed(0)\n",
        "runs = 5\n",
        "times= []\n",
        "avg_acc= 0.0\n",
        "avg_f1 = 0.0\n",
        "for run in range(runs):\n",
        "    model2 = model_dense()\n",
        "    if(run==0):\n",
        "        print(model2.summary())\n",
        "    model2.compile(loss='binary_crossentropy',optimizer='adam',metrics=['accuracy'])\n",
        "    starttime = time.time()\n",
        "    stop = EarlyStopping(monitor='val_loss', min_delta=0, patience=10, verbose=0, mode='min')\n",
        "    check = ModelCheckpoint('temp.h5' ,monitor='val_loss', verbose=0, save_best_only=True, save_weights_only=True, mode='min', period=1)\n",
        "    model2.fit(train_vectors,ytrain,validation_data=(val_vectors,yval),callbacks=[stop,check],batch_size=batchsize,\n",
        "              epochs=numepochs,verbose=0)\n",
        "    times.append(time.time()-starttime)\n",
        "    ypred = model2.predict(test_vectors,128)\n",
        "    ypred = (ypred>0.5)\n",
        "    avg_f1+=f1_score(ypred,ytest)\n",
        "    avg_acc+=accuracy_score(ypred,ytest)\n",
        "    \n",
        "print(\"F1 Score {} \".format(avg_f1/runs))\n",
        "print(\"Accuracy Score {} \".format(avg_acc/runs))\n",
        "print(\"Avg_time  {}\".format(np.mean(np.asarray(times))))"
      ],
      "execution_count": 77,
      "outputs": [
        {
          "output_type": "stream",
          "text": [
            "_________________________________________________________________\n",
            "Layer (type)                 Output Shape              Param #   \n",
            "=================================================================\n",
            "input_44 (InputLayer)        (None, 100)               0         \n",
            "_________________________________________________________________\n",
            "dense_71 (Dense)             (None, 50)                5050      \n",
            "_________________________________________________________________\n",
            "dropout_41 (Dropout)         (None, 50)                0         \n",
            "_________________________________________________________________\n",
            "dense_72 (Dense)             (None, 16)                816       \n",
            "_________________________________________________________________\n",
            "dropout_42 (Dropout)         (None, 16)                0         \n",
            "_________________________________________________________________\n",
            "dense_73 (Dense)             (None, 1)                 17        \n",
            "=================================================================\n",
            "Total params: 5,883\n",
            "Trainable params: 5,883\n",
            "Non-trainable params: 0\n",
            "_________________________________________________________________\n",
            "None\n",
            "F1 Score 0.7063107551838174 \n",
            "Accuracy Score 0.6910000000000001 \n",
            "Avg_time  23.656726551055907\n"
          ],
          "name": "stdout"
        }
      ]
    },
    {
      "cell_type": "markdown",
      "metadata": {
        "id": "SMhjsI5VBJ5T",
        "colab_type": "text"
      },
      "source": [
        "### PV(DM)+FNN"
      ]
    },
    {
      "cell_type": "code",
      "metadata": {
        "id": "o_Kq4cUDBMb-",
        "colab_type": "code",
        "colab": {}
      },
      "source": [
        "np.random.seed(0)\n",
        "pv_dm = Doc2Vec(dm=1,vector_size=vecsize, window=2, min_count=1, workers=4)\n",
        "pv_dm.build_vocab(tagged_documents)\n",
        "pv_dm.train(tagged_documents,total_examples=pv_dm.corpus_count,epochs=20)"
      ],
      "execution_count": 0,
      "outputs": []
    },
    {
      "cell_type": "code",
      "metadata": {
        "id": "6SBVyziVBTD-",
        "colab_type": "code",
        "colab": {}
      },
      "source": [
        "train_vectors = np.zeros((train_l,vecsize))\n",
        "for i in range(train_l):\n",
        "  train_vectors[i] = pv_dm.infer_vector(Xtrain[i].split())"
      ],
      "execution_count": 0,
      "outputs": []
    },
    {
      "cell_type": "code",
      "metadata": {
        "id": "dvr8EpxKBUjM",
        "colab_type": "code",
        "colab": {}
      },
      "source": [
        "val_vectors = np.zeros((val_l,vecsize))\n",
        "for i in range(val_l):\n",
        "  val_vectors[i] = pv_dm.infer_vector(Xval[i].split())"
      ],
      "execution_count": 0,
      "outputs": []
    },
    {
      "cell_type": "code",
      "metadata": {
        "id": "q45psM-ZBUve",
        "colab_type": "code",
        "colab": {}
      },
      "source": [
        "test_vectors = np.zeros((test_l,vecsize))\n",
        "for i in range(test_l):\n",
        "  test_vectors[i] = pv_dm.infer_vector(Xtest[i].split())"
      ],
      "execution_count": 0,
      "outputs": []
    },
    {
      "cell_type": "code",
      "metadata": {
        "id": "vENSSbViBgjr",
        "colab_type": "code",
        "colab": {
          "base_uri": "https://localhost:8080/",
          "height": 408
        },
        "outputId": "ba471441-1d9b-4a57-eab8-b3f9aa829af9"
      },
      "source": [
        "np.random.seed(0)\n",
        "runs = 5\n",
        "times= []\n",
        "avg_acc= 0.0\n",
        "avg_f1 = 0.0\n",
        "for run in range(runs):\n",
        "    model2 = model_dense()\n",
        "    if(run==0):\n",
        "        print(model2.summary())\n",
        "    model2.compile(loss='binary_crossentropy',optimizer='adam',metrics=['accuracy'])\n",
        "    starttime = time.time()\n",
        "    stop = EarlyStopping(monitor='val_loss', min_delta=0, patience=10, verbose=0, mode='min')\n",
        "    check = ModelCheckpoint('temp.h5' ,monitor='val_loss', verbose=0, save_best_only=True, save_weights_only=True, mode='min', period=1)\n",
        "    model2.fit(train_vectors,ytrain,validation_data=(val_vectors,yval),callbacks=[stop,check],batch_size=batchsize,\n",
        "              epochs=numepochs,verbose=0)\n",
        "    times.append(time.time()-starttime)\n",
        "    ypred = model2.predict(test_vectors,128)\n",
        "    ypred = (ypred>0.5)\n",
        "    avg_f1+=f1_score(ypred,ytest)\n",
        "    avg_acc+=accuracy_score(ypred,ytest)\n",
        "    \n",
        "print(\"F1 Score {} \".format(avg_f1/runs))\n",
        "print(\"Accuracy Score {} \".format(avg_acc/runs))\n",
        "print(\"Avg_time  {}\".format(np.mean(np.asarray(times))))"
      ],
      "execution_count": 82,
      "outputs": [
        {
          "output_type": "stream",
          "text": [
            "_________________________________________________________________\n",
            "Layer (type)                 Output Shape              Param #   \n",
            "=================================================================\n",
            "input_49 (InputLayer)        (None, 100)               0         \n",
            "_________________________________________________________________\n",
            "dense_86 (Dense)             (None, 50)                5050      \n",
            "_________________________________________________________________\n",
            "dropout_51 (Dropout)         (None, 50)                0         \n",
            "_________________________________________________________________\n",
            "dense_87 (Dense)             (None, 16)                816       \n",
            "_________________________________________________________________\n",
            "dropout_52 (Dropout)         (None, 16)                0         \n",
            "_________________________________________________________________\n",
            "dense_88 (Dense)             (None, 1)                 17        \n",
            "=================================================================\n",
            "Total params: 5,883\n",
            "Trainable params: 5,883\n",
            "Non-trainable params: 0\n",
            "_________________________________________________________________\n",
            "None\n",
            "F1 Score 0.6981083014726154 \n",
            "Accuracy Score 0.683 \n",
            "Avg_time  25.248258781433105\n"
          ],
          "name": "stdout"
        }
      ]
    },
    {
      "cell_type": "code",
      "metadata": {
        "id": "OQRzJI1rDRPd",
        "colab_type": "code",
        "colab": {}
      },
      "source": [
        "maxsenlen = 60\n",
        "embeddim = 300"
      ],
      "execution_count": 0,
      "outputs": []
    },
    {
      "cell_type": "code",
      "metadata": {
        "id": "MLAaZV3rCfxe",
        "colab_type": "code",
        "colab": {}
      },
      "source": [
        "tok = Tokenizer()\n",
        "tok.fit_on_texts(Xtrain)\n",
        "\n",
        "word_index = tok.word_index\n",
        "\n",
        "train = tok.texts_to_sequences(Xtrain)\n",
        "train_vectors = pad_sequences(train,maxsenlen)\n",
        "\n",
        "val = tok.texts_to_sequences(Xval)\n",
        "val_vectors = pad_sequences(val,maxsenlen)\n",
        "\n",
        "test = tok.texts_to_sequences(Xtest)\n",
        "test_vectors = pad_sequences(test,maxsenlen)"
      ],
      "execution_count": 0,
      "outputs": []
    },
    {
      "cell_type": "code",
      "metadata": {
        "id": "oYC1acvCDJeu",
        "colab_type": "code",
        "colab": {}
      },
      "source": [
        "embedding_matrix = np.zeros((len(word_index)+1,embeddim))\n",
        "for word, i in word_index.items():\n",
        "  embedding_vector = embedding_index.get(word)\n",
        "  if embedding_vector is not None:\n",
        "    embedding_matrix[i] = embedding_vector"
      ],
      "execution_count": 0,
      "outputs": []
    },
    {
      "cell_type": "markdown",
      "metadata": {
        "id": "lPh3izpYDDBB",
        "colab_type": "text"
      },
      "source": [
        "### LSTM"
      ]
    },
    {
      "cell_type": "code",
      "metadata": {
        "id": "kOWfJXRlDEyl",
        "colab_type": "code",
        "colab": {}
      },
      "source": [
        "def lstm_model():\n",
        "  inp = Input(shape=(maxsenlen,))\n",
        "  \n",
        "  embed = Embedding(len(word_index)+1,embeddim,weights=[embedding_matrix],trainable=False)(inp)\n",
        "  \n",
        "  lstm_out = LSTM(100,recurrent_dropout=0.2,return_sequences=True)(embed)\n",
        "  lstm_out = LSTM(50,return_sequences=False)(lstm_out)\n",
        "  \n",
        "  out = Dense(16,activation='relu')(lstm_out)\n",
        "  out = Dropout(0.5)(out)\n",
        "  out = Dense(1,activation='sigmoid')(out)\n",
        "  \n",
        "  m2 = Model(inputs=inp,outputs=[out])\n",
        "  return m2"
      ],
      "execution_count": 0,
      "outputs": []
    },
    {
      "cell_type": "code",
      "metadata": {
        "id": "DGvd2yayF8qP",
        "colab_type": "code",
        "colab": {
          "base_uri": "https://localhost:8080/",
          "height": 442
        },
        "outputId": "a84face7-baf2-44be-ad94-2df3e3940533"
      },
      "source": [
        "np.random.seed(0)\n",
        "runs = 5\n",
        "times= []\n",
        "avg_acc= 0.0\n",
        "avg_f1 = 0.0\n",
        "for run in range(runs):\n",
        "    model3 = lstm_model()\n",
        "    if(run==0):\n",
        "        print(model3.summary())\n",
        "    model3.compile(loss='binary_crossentropy',optimizer='adam',metrics=['accuracy'])\n",
        "    starttime = time.time()\n",
        "    stop = EarlyStopping(monitor='val_loss', min_delta=0, patience=10, verbose=0, mode='min')\n",
        "    check = ModelCheckpoint('temp.h5' ,monitor='val_loss', verbose=0, save_best_only=True, save_weights_only=True, mode='min', period=1)\n",
        "    model3.fit(train_vectors,ytrain,validation_data=(val_vectors,yval),callbacks=[stop,check],batch_size=batchsize,\n",
        "              epochs=numepochs,verbose=0)\n",
        "    times.append(time.time()-starttime)\n",
        "    ypred = model3.predict(test_vectors,128)\n",
        "    ypred = (ypred>0.5)\n",
        "    avg_f1+=f1_score(ypred,ytest)\n",
        "    avg_acc+=accuracy_score(ypred,ytest)\n",
        "    \n",
        "print(\"F1 Score {} \".format(avg_f1/runs))\n",
        "print(\"Accuracy Score {} \".format(avg_acc/runs))\n",
        "print(\"Avg_time  {}\".format(np.mean(np.asarray(times))))"
      ],
      "execution_count": 46,
      "outputs": [
        {
          "output_type": "stream",
          "text": [
            "_________________________________________________________________\n",
            "Layer (type)                 Output Shape              Param #   \n",
            "=================================================================\n",
            "input_18 (InputLayer)        (None, 60)                0         \n",
            "_________________________________________________________________\n",
            "embedding_2 (Embedding)      (None, 60, 300)           5461200   \n",
            "_________________________________________________________________\n",
            "lstm_12 (LSTM)               (None, 60, 100)           160400    \n",
            "_________________________________________________________________\n",
            "lstm_13 (LSTM)               (None, 50)                30200     \n",
            "_________________________________________________________________\n",
            "dense_36 (Dense)             (None, 16)                816       \n",
            "_________________________________________________________________\n",
            "dropout_21 (Dropout)         (None, 16)                0         \n",
            "_________________________________________________________________\n",
            "dense_37 (Dense)             (None, 1)                 17        \n",
            "=================================================================\n",
            "Total params: 5,652,633\n",
            "Trainable params: 191,433\n",
            "Non-trainable params: 5,461,200\n",
            "_________________________________________________________________\n",
            "None\n",
            "F1 Score 0.7321573290297065 \n",
            "Accuracy Score 0.7255 \n",
            "Avg_time  153.05909304618837\n"
          ],
          "name": "stdout"
        }
      ]
    },
    {
      "cell_type": "markdown",
      "metadata": {
        "id": "kIEErLZDGNoF",
        "colab_type": "text"
      },
      "source": [
        "## Bi-LSTM"
      ]
    },
    {
      "cell_type": "code",
      "metadata": {
        "id": "K2FQXj6WGPrL",
        "colab_type": "code",
        "colab": {}
      },
      "source": [
        "def bilstm_model():\n",
        "  inp = Input(shape=(maxsenlen,))\n",
        "  \n",
        "  embed = Embedding(len(word_index)+1,embeddim,weights=[embedding_matrix],trainable=False)(inp)\n",
        "  \n",
        "  lstm_out = Bidirectional(LSTM(100,recurrent_dropout=0.2,return_sequences=True))(embed)\n",
        "  lstm_out = Bidirectional(LSTM(50,return_sequences=False))(lstm_out)\n",
        "  \n",
        "  out = Dense(16,activation='relu')(lstm_out)\n",
        "  out = Dropout(0.5)(out)\n",
        "  out = Dense(1,activation='sigmoid')(out)\n",
        "  \n",
        "  m3 = Model(inputs=inp,outputs=[out])\n",
        "  return m3"
      ],
      "execution_count": 0,
      "outputs": []
    },
    {
      "cell_type": "code",
      "metadata": {
        "id": "63qwfrofGegi",
        "colab_type": "code",
        "colab": {
          "base_uri": "https://localhost:8080/",
          "height": 442
        },
        "outputId": "b9a17163-b4f5-41e5-e64d-b96603a45dc7"
      },
      "source": [
        "np.random.seed(0)\n",
        "runs = 5\n",
        "times= []\n",
        "avg_acc= 0.0\n",
        "avg_f1 = 0.0\n",
        "for run in range(runs):\n",
        "    model4 = bilstm_model()\n",
        "    if(run==0):\n",
        "        print(model4.summary())\n",
        "    model4.compile(loss='binary_crossentropy',optimizer='adam',metrics=['accuracy'])\n",
        "    starttime = time.time()\n",
        "    stop = EarlyStopping(monitor='val_loss', min_delta=0, patience=10, verbose=0, mode='min')\n",
        "    check = ModelCheckpoint('temp.h5' ,monitor='val_loss', verbose=0, save_best_only=True, save_weights_only=True, mode='min', period=1)\n",
        "    model4.fit(train_vectors,ytrain,validation_data=(val_vectors,yval),callbacks=[stop,check],batch_size=batchsize,\n",
        "              epochs=numepochs,verbose=0)\n",
        "    times.append(time.time()-starttime)\n",
        "    ypred = model4.predict(test_vectors,128)\n",
        "    ypred = (ypred>0.5)\n",
        "    avg_f1+=f1_score(ypred,ytest)\n",
        "    avg_acc+=accuracy_score(ypred,ytest)\n",
        "    \n",
        "print(\"F1 Score {} \".format(avg_f1/runs))\n",
        "print(\"Accuracy Score {} \".format(avg_acc/runs))\n",
        "print(\"Avg_time  {}\".format(np.mean(np.asarray(times))))"
      ],
      "execution_count": 48,
      "outputs": [
        {
          "output_type": "stream",
          "text": [
            "_________________________________________________________________\n",
            "Layer (type)                 Output Shape              Param #   \n",
            "=================================================================\n",
            "input_23 (InputLayer)        (None, 60)                0         \n",
            "_________________________________________________________________\n",
            "embedding_7 (Embedding)      (None, 60, 300)           5461200   \n",
            "_________________________________________________________________\n",
            "bidirectional_1 (Bidirection (None, 60, 200)           320800    \n",
            "_________________________________________________________________\n",
            "bidirectional_2 (Bidirection (None, 100)               100400    \n",
            "_________________________________________________________________\n",
            "dense_46 (Dense)             (None, 16)                1616      \n",
            "_________________________________________________________________\n",
            "dropout_26 (Dropout)         (None, 16)                0         \n",
            "_________________________________________________________________\n",
            "dense_47 (Dense)             (None, 1)                 17        \n",
            "=================================================================\n",
            "Total params: 5,884,033\n",
            "Trainable params: 422,833\n",
            "Non-trainable params: 5,461,200\n",
            "_________________________________________________________________\n",
            "None\n",
            "F1 Score 0.7364668639967468 \n",
            "Accuracy Score 0.7245 \n",
            "Avg_time  341.0595603466034\n"
          ],
          "name": "stdout"
        }
      ]
    },
    {
      "cell_type": "code",
      "metadata": {
        "id": "iWRxyyhtIqbg",
        "colab_type": "code",
        "colab": {}
      },
      "source": [
        "num_filters = 100\n",
        "filter_sizes = [3,4,5]\n",
        "drop = 0.5"
      ],
      "execution_count": 0,
      "outputs": []
    },
    {
      "cell_type": "markdown",
      "metadata": {
        "id": "jL1YFm1TIKxt",
        "colab_type": "text"
      },
      "source": [
        "## Random CNN"
      ]
    },
    {
      "cell_type": "code",
      "metadata": {
        "id": "otWPSEGBGrCz",
        "colab_type": "code",
        "colab": {}
      },
      "source": [
        "def random_cnn():\n",
        "  inp = Input(shape=(maxsenlen,), dtype='int32')\n",
        "  embedding = Embedding(input_dim=len(word_index)+1, output_dim=embeddim, input_length=maxsenlen)(inp)\n",
        "  reshape = Reshape((maxsenlen,embeddim,1))(embedding)\n",
        "\n",
        "  conv_0 = Conv2D(num_filters, kernel_size=(filter_sizes[0], embeddim), padding='valid', kernel_initializer='normal', activation='relu')(reshape)\n",
        "  conv_1 = Conv2D(num_filters, kernel_size=(filter_sizes[1], embeddim), padding='valid', kernel_initializer='normal', activation='relu')(reshape)\n",
        "  conv_2 = Conv2D(num_filters, kernel_size=(filter_sizes[2], embeddim), padding='valid', kernel_initializer='normal', activation='relu')(reshape)\n",
        "\n",
        "  maxpool_0 = MaxPool2D(pool_size=(maxsenlen - filter_sizes[0] + 1, 1), strides=(1,1), padding='valid')(conv_0)\n",
        "  maxpool_1 = MaxPool2D(pool_size=(maxsenlen - filter_sizes[1] + 1, 1), strides=(1,1), padding='valid')(conv_1)\n",
        "  maxpool_2 = MaxPool2D(pool_size=(maxsenlen - filter_sizes[2] + 1, 1), strides=(1,1), padding='valid')(conv_2)\n",
        "\n",
        "  concatenated_tensor = Concatenate(axis=1)([maxpool_0, maxpool_1, maxpool_2])\n",
        "  flatten = Flatten()(concatenated_tensor)\n",
        "  dropout = Dropout(drop)(flatten)\n",
        "  output = Dense(units=1, activation='sigmoid')(dropout)\n",
        "  \n",
        "  m4 = Model(inputs=inp,outputs=output)\n",
        "  return m4"
      ],
      "execution_count": 0,
      "outputs": []
    },
    {
      "cell_type": "code",
      "metadata": {
        "id": "0SBhJAaqJEOm",
        "colab_type": "code",
        "colab": {
          "base_uri": "https://localhost:8080/",
          "height": 680
        },
        "outputId": "1b2efb30-612e-4251-cc35-c60d5e4bfdd9"
      },
      "source": [
        "np.random.seed(0)\n",
        "runs = 5\n",
        "times= []\n",
        "avg_acc= 0.0\n",
        "avg_f1 = 0.0\n",
        "for run in range(runs):\n",
        "    model5 = random_cnn()\n",
        "    if(run==0):\n",
        "        print(model5.summary())\n",
        "    model5.compile(loss='binary_crossentropy',optimizer='adam',metrics=['accuracy'])\n",
        "    starttime = time.time()\n",
        "    stop = EarlyStopping(monitor='val_loss', min_delta=0, patience=10, verbose=0, mode='min')\n",
        "    check = ModelCheckpoint('temp.h5' ,monitor='val_loss', verbose=0, save_best_only=True, save_weights_only=True, mode='min', period=1)\n",
        "    model5.fit(train_vectors,ytrain,validation_data=(val_vectors,yval),callbacks=[stop,check],batch_size=batchsize,\n",
        "              epochs=numepochs,verbose=0)\n",
        "    times.append(time.time()-starttime)\n",
        "    ypred = model5.predict(test_vectors,128)\n",
        "    ypred = (ypred>0.5)\n",
        "    avg_f1+=f1_score(ypred,ytest)\n",
        "    avg_acc+=accuracy_score(ypred,ytest)\n",
        "    \n",
        "print(\"F1 Score {} \".format(avg_f1/runs))\n",
        "print(\"Accuracy Score {} \".format(avg_acc/runs))\n",
        "print(\"Avg_time  {}\".format(np.mean(np.asarray(times))))"
      ],
      "execution_count": 55,
      "outputs": [
        {
          "output_type": "stream",
          "text": [
            "__________________________________________________________________________________________________\n",
            "Layer (type)                    Output Shape         Param #     Connected to                     \n",
            "==================================================================================================\n",
            "input_29 (InputLayer)           (None, 60)           0                                            \n",
            "__________________________________________________________________________________________________\n",
            "embedding_13 (Embedding)        (None, 60, 300)      5461200     input_29[0][0]                   \n",
            "__________________________________________________________________________________________________\n",
            "reshape_2 (Reshape)             (None, 60, 300, 1)   0           embedding_13[0][0]               \n",
            "__________________________________________________________________________________________________\n",
            "conv2d_4 (Conv2D)               (None, 58, 1, 100)   90100       reshape_2[0][0]                  \n",
            "__________________________________________________________________________________________________\n",
            "conv2d_5 (Conv2D)               (None, 57, 1, 100)   120100      reshape_2[0][0]                  \n",
            "__________________________________________________________________________________________________\n",
            "conv2d_6 (Conv2D)               (None, 56, 1, 100)   150100      reshape_2[0][0]                  \n",
            "__________________________________________________________________________________________________\n",
            "max_pooling2d_4 (MaxPooling2D)  (None, 1, 1, 100)    0           conv2d_4[0][0]                   \n",
            "__________________________________________________________________________________________________\n",
            "max_pooling2d_5 (MaxPooling2D)  (None, 1, 1, 100)    0           conv2d_5[0][0]                   \n",
            "__________________________________________________________________________________________________\n",
            "max_pooling2d_6 (MaxPooling2D)  (None, 1, 1, 100)    0           conv2d_6[0][0]                   \n",
            "__________________________________________________________________________________________________\n",
            "concatenate_2 (Concatenate)     (None, 3, 1, 100)    0           max_pooling2d_4[0][0]            \n",
            "                                                                 max_pooling2d_5[0][0]            \n",
            "                                                                 max_pooling2d_6[0][0]            \n",
            "__________________________________________________________________________________________________\n",
            "flatten_2 (Flatten)             (None, 300)          0           concatenate_2[0][0]              \n",
            "__________________________________________________________________________________________________\n",
            "dropout_31 (Dropout)            (None, 300)          0           flatten_2[0][0]                  \n",
            "__________________________________________________________________________________________________\n",
            "dense_56 (Dense)                (None, 1)            301         dropout_31[0][0]                 \n",
            "==================================================================================================\n",
            "Total params: 5,821,801\n",
            "Trainable params: 5,821,801\n",
            "Non-trainable params: 0\n",
            "__________________________________________________________________________________________________\n",
            "None\n",
            "F1 Score 0.7532129095805372 \n",
            "Accuracy Score 0.741 \n",
            "Avg_time  29.173750591278075\n"
          ],
          "name": "stdout"
        }
      ]
    },
    {
      "cell_type": "markdown",
      "metadata": {
        "id": "l1D2zVmyJNh2",
        "colab_type": "text"
      },
      "source": [
        "### Static CNN"
      ]
    },
    {
      "cell_type": "code",
      "metadata": {
        "id": "Kko75slJJOon",
        "colab_type": "code",
        "colab": {}
      },
      "source": [
        "def static_cnn():\n",
        "  inp = Input(shape=(maxsenlen,), dtype='int32')\n",
        "  embedding = Embedding(input_dim=len(word_index)+1, output_dim=embeddim, weights=[embedding_matrix],trainable=False)(inp)\n",
        "  reshape = Reshape((maxsenlen,embedddim,1))(embedding)\n",
        "\n",
        "  conv_0 = Conv2D(num_filters, kernel_size=(filter_sizes[0], embeddim), padding='valid', kernel_initializer='normal', activation='relu')(reshape)\n",
        "  conv_1 = Conv2D(num_filters, kernel_size=(filter_sizes[1], embeddim), padding='valid', kernel_initializer='normal', activation='relu')(reshape)\n",
        "  conv_2 = Conv2D(num_filters, kernel_size=(filter_sizes[2], embeddim), padding='valid', kernel_initializer='normal', activation='relu')(reshape)\n",
        "\n",
        "  maxpool_0 = MaxPool2D(pool_size=(maxsenlen - filter_sizes[0] + 1, 1), strides=(1,1), padding='valid')(conv_0)\n",
        "  maxpool_1 = MaxPool2D(pool_size=(maxsenlen - filter_sizes[1] + 1, 1), strides=(1,1), padding='valid')(conv_1)\n",
        "  maxpool_2 = MaxPool2D(pool_size=(maxsenlen - filter_sizes[2] + 1, 1), strides=(1,1), padding='valid')(conv_2)\n",
        "\n",
        "  concatenated_tensor = Concatenate(axis=1)([maxpool_0, maxpool_1, maxpool_2])\n",
        "  flatten = Flatten()(concatenated_tensor)\n",
        "  dropout = Dropout(drop)(flatten)\n",
        "  output = Dense(units=1, activation='sigmoid')(dropout)\n",
        "  \n",
        "  m5 = Model(inputs=inp,outputs=output)\n",
        "  return m5"
      ],
      "execution_count": 0,
      "outputs": []
    },
    {
      "cell_type": "code",
      "metadata": {
        "id": "fRzXyau5JYzq",
        "colab_type": "code",
        "colab": {
          "base_uri": "https://localhost:8080/",
          "height": 680
        },
        "outputId": "2d154673-a5cd-4162-deb4-b0fc77274fb1"
      },
      "source": [
        "np.random.seed(0)\n",
        "runs = 5\n",
        "times= []\n",
        "avg_acc= 0.0\n",
        "avg_f1 = 0.0\n",
        "for run in range(runs):\n",
        "    model6 = random_cnn()\n",
        "    if(run==0):\n",
        "        print(model6.summary())\n",
        "    model6.compile(loss='binary_crossentropy',optimizer='adam',metrics=['accuracy'])\n",
        "    starttime = time.time()\n",
        "    stop = EarlyStopping(monitor='val_loss', min_delta=0, patience=10, verbose=0, mode='min')\n",
        "    check = ModelCheckpoint('temp.h5' ,monitor='val_loss', verbose=0, save_best_only=True, save_weights_only=True, mode='min', period=1)\n",
        "    model6.fit(train_vectors,ytrain,validation_data=(val_vectors,yval),callbacks=[stop,check],batch_size=batchsize,\n",
        "              epochs=numepochs,verbose=0)\n",
        "    times.append(time.time()-starttime)\n",
        "    ypred = model6.predict(test_vectors,128)\n",
        "    ypred = (ypred>0.5)\n",
        "    avg_f1+=f1_score(ypred,ytest)\n",
        "    avg_acc+=accuracy_score(ypred,ytest)\n",
        "    \n",
        "print(\"F1 Score {} \".format(avg_f1/runs))\n",
        "print(\"Accuracy Score {} \".format(avg_acc/runs))\n",
        "print(\"Avg_time  {}\".format(np.mean(np.asarray(times))))"
      ],
      "execution_count": 57,
      "outputs": [
        {
          "output_type": "stream",
          "text": [
            "__________________________________________________________________________________________________\n",
            "Layer (type)                    Output Shape         Param #     Connected to                     \n",
            "==================================================================================================\n",
            "input_34 (InputLayer)           (None, 60)           0                                            \n",
            "__________________________________________________________________________________________________\n",
            "embedding_18 (Embedding)        (None, 60, 300)      5461200     input_34[0][0]                   \n",
            "__________________________________________________________________________________________________\n",
            "reshape_7 (Reshape)             (None, 60, 300, 1)   0           embedding_18[0][0]               \n",
            "__________________________________________________________________________________________________\n",
            "conv2d_19 (Conv2D)              (None, 58, 1, 100)   90100       reshape_7[0][0]                  \n",
            "__________________________________________________________________________________________________\n",
            "conv2d_20 (Conv2D)              (None, 57, 1, 100)   120100      reshape_7[0][0]                  \n",
            "__________________________________________________________________________________________________\n",
            "conv2d_21 (Conv2D)              (None, 56, 1, 100)   150100      reshape_7[0][0]                  \n",
            "__________________________________________________________________________________________________\n",
            "max_pooling2d_19 (MaxPooling2D) (None, 1, 1, 100)    0           conv2d_19[0][0]                  \n",
            "__________________________________________________________________________________________________\n",
            "max_pooling2d_20 (MaxPooling2D) (None, 1, 1, 100)    0           conv2d_20[0][0]                  \n",
            "__________________________________________________________________________________________________\n",
            "max_pooling2d_21 (MaxPooling2D) (None, 1, 1, 100)    0           conv2d_21[0][0]                  \n",
            "__________________________________________________________________________________________________\n",
            "concatenate_7 (Concatenate)     (None, 3, 1, 100)    0           max_pooling2d_19[0][0]           \n",
            "                                                                 max_pooling2d_20[0][0]           \n",
            "                                                                 max_pooling2d_21[0][0]           \n",
            "__________________________________________________________________________________________________\n",
            "flatten_7 (Flatten)             (None, 300)          0           concatenate_7[0][0]              \n",
            "__________________________________________________________________________________________________\n",
            "dropout_36 (Dropout)            (None, 300)          0           flatten_7[0][0]                  \n",
            "__________________________________________________________________________________________________\n",
            "dense_61 (Dense)                (None, 1)            301         dropout_36[0][0]                 \n",
            "==================================================================================================\n",
            "Total params: 5,821,801\n",
            "Trainable params: 5,821,801\n",
            "Non-trainable params: 0\n",
            "__________________________________________________________________________________________________\n",
            "None\n",
            "F1 Score 0.7531100687498111 \n",
            "Accuracy Score 0.7404999999999999 \n",
            "Avg_time  29.86428556442261\n"
          ],
          "name": "stdout"
        }
      ]
    },
    {
      "cell_type": "code",
      "metadata": {
        "id": "8aU0hD7ITJFz",
        "colab_type": "code",
        "colab": {}
      },
      "source": [
        ""
      ],
      "execution_count": 0,
      "outputs": []
    }
  ]
}