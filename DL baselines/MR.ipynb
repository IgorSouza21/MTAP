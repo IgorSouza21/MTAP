{
  "nbformat": 4,
  "nbformat_minor": 0,
  "metadata": {
    "colab": {
      "name": "MR.ipynb",
      "version": "0.3.2",
      "provenance": [],
      "collapsed_sections": []
    },
    "kernelspec": {
      "name": "python3",
      "display_name": "Python 3"
    },
    "accelerator": "GPU"
  },
  "cells": [
    {
      "cell_type": "code",
      "metadata": {
        "id": "ZFefv4k6ohaL",
        "colab_type": "code",
        "colab": {}
      },
      "source": [
        "!wget https://raw.githubusercontent.com/yao8839836/text_gcn/master/data/mr/text_train.txt\n",
        "!wget https://raw.githubusercontent.com/yao8839836/text_gcn/master/data/mr/label_train.txt\n",
        "!wget https://raw.githubusercontent.com/yao8839836/text_gcn/master/data/mr/text_test.txt\n",
        "!wget https://raw.githubusercontent.com/yao8839836/text_gcn/master/data/mr/label_test.txt"
      ],
      "execution_count": 0,
      "outputs": []
    },
    {
      "cell_type": "code",
      "metadata": {
        "id": "jmByk8y5QpI_",
        "colab_type": "code",
        "colab": {}
      },
      "source": [
        "import os\n",
        "import re\n",
        "import sys\n",
        "import pickle\n",
        "import time\n",
        "import copy\n",
        "from copy import deepcopy\n",
        "import numpy as np\n",
        "import pandas as pd\n",
        "import sklearn\n",
        "from sklearn.utils import shuffle\n",
        "from sklearn.model_selection import train_test_split,StratifiedKFold\n",
        "from sklearn.metrics import accuracy_score,f1_score,confusion_matrix\n",
        "from nltk.tokenize import word_tokenize\n",
        "from nltk.corpus import stopwords\n",
        "import gensim\n",
        "from gensim.models import doc2vec,fasttext,FastText\n",
        "from gensim.models.doc2vec import Doc2Vec, TaggedDocument"
      ],
      "execution_count": 0,
      "outputs": []
    },
    {
      "cell_type": "code",
      "metadata": {
        "id": "Uw9v671ZQ_9X",
        "colab_type": "code",
        "outputId": "abe483e8-055e-46fc-e947-2b2a82b29b0a",
        "colab": {
          "base_uri": "https://localhost:8080/",
          "height": 34
        }
      },
      "source": [
        "import tensorflow as tf\n",
        "import keras\n",
        "from keras.layers import *\n",
        "from keras.models import Model,Sequential\n",
        "from keras.callbacks import *\n",
        "from keras.metrics import *\n",
        "import keras.backend as K\n",
        "from keras.engine import Layer\n",
        "from keras.preprocessing.text import Tokenizer\n",
        "from keras.preprocessing.sequence import pad_sequences"
      ],
      "execution_count": 3,
      "outputs": [
        {
          "output_type": "stream",
          "text": [
            "Using TensorFlow backend.\n"
          ],
          "name": "stderr"
        }
      ]
    },
    {
      "cell_type": "code",
      "metadata": {
        "id": "E2bt-b4JRV0_",
        "colab_type": "code",
        "colab": {}
      },
      "source": [
        "def preprocess(string):\n",
        "    string = re.sub(r\"[^A-Za-z0-9(),!?\\'\\`]\", \" \", string)\n",
        "    string = re.sub(r\"\\'s\", \" \\'s\", string)\n",
        "    string = re.sub(r\"\\'ve\", \" \\'ve\", string)\n",
        "    string = re.sub(r\"n\\'t\", \" n\\'t\", string)\n",
        "    string = re.sub(r\"\\'re\", \" \\'re\", string)\n",
        "    string = re.sub(r\"\\'d\", \" \\'d\", string)\n",
        "    string = re.sub(r\"\\'ll\", \" \\'ll\", string)\n",
        "    string = re.sub(r\",\", \" , \", string)\n",
        "    string = re.sub(r\"!\", \" ! \", string)\n",
        "    string = re.sub(r\"\\(\", \" \\( \", string)\n",
        "    string = re.sub(r\"\\)\", \" \\) \", string)\n",
        "    string = re.sub(r\"\\?\", \" \\? \", string)\n",
        "    string = re.sub(r\"\\s{2,}\", \" \", string)\n",
        "    return string.lower().strip()"
      ],
      "execution_count": 0,
      "outputs": []
    },
    {
      "cell_type": "code",
      "metadata": {
        "id": "XE2DwTRjRa1F",
        "colab_type": "code",
        "colab": {}
      },
      "source": [
        "traincorpus = []\n",
        "with open('text_train.txt','r',encoding='latin1') as f:\n",
        "    for line in f.readlines():\n",
        "        traincorpus.append(preprocess(line[:-1]))\n",
        "\n",
        "trainlabels = []\n",
        "with open('label_train.txt','r',encoding='latin1') as f:\n",
        "    for line in f.readlines():\n",
        "        trainlabels.append(line[:-1])\n",
        "\n",
        "trainlabels = np.asarray(trainlabels,'int32')\n",
        "traincorpus,trainlabels = shuffle(traincorpus,trainlabels,random_state=0)\n",
        "Xtrain,Xval,ytrain,yval = train_test_split(traincorpus,trainlabels,test_size=0.2,random_state=42)"
      ],
      "execution_count": 0,
      "outputs": []
    },
    {
      "cell_type": "code",
      "metadata": {
        "id": "IgFR7p-wRc51",
        "colab_type": "code",
        "colab": {}
      },
      "source": [
        "Xtest = []\n",
        "with open('text_test.txt','r',encoding='latin1') as f:\n",
        "    for line in f.readlines():\n",
        "        Xtest.append(preprocess(line[:-1]))\n",
        "\n",
        "ytest = []\n",
        "with open('label_test.txt','r',encoding='latin1') as f:\n",
        "    for line in f.readlines():\n",
        "        ytest.append(line[:-1])\n",
        "\n",
        "ytest = np.asarray(ytest,'int32')"
      ],
      "execution_count": 0,
      "outputs": []
    },
    {
      "cell_type": "code",
      "metadata": {
        "id": "-YrShjg0RdAT",
        "colab_type": "code",
        "colab": {}
      },
      "source": [
        "train_l = len(Xtrain)\n",
        "val_l = len(Xval)\n",
        "test_l = len(Xtest)"
      ],
      "execution_count": 0,
      "outputs": []
    },
    {
      "cell_type": "code",
      "metadata": {
        "id": "73F5iublRjhV",
        "colab_type": "code",
        "colab": {}
      },
      "source": [
        "words = []\n",
        "for sentence in Xtrain:\n",
        "    words.append(sentence.split())"
      ],
      "execution_count": 0,
      "outputs": []
    },
    {
      "cell_type": "code",
      "metadata": {
        "id": "mZR7wY1CRlox",
        "colab_type": "code",
        "colab": {}
      },
      "source": [
        "batchsize = 50\n",
        "numepochs = 30"
      ],
      "execution_count": 0,
      "outputs": []
    },
    {
      "cell_type": "markdown",
      "metadata": {
        "id": "lzgxX99kQj3I",
        "colab_type": "text"
      },
      "source": [
        "## FastText + LSTM"
      ]
    },
    {
      "cell_type": "code",
      "metadata": {
        "id": "3cyFCq_-pl00",
        "colab_type": "code",
        "colab": {}
      },
      "source": [
        "mincount = 1\n",
        "vecsize = 100\n",
        "winsize = 5\n",
        "totalepoch = 20"
      ],
      "execution_count": 0,
      "outputs": []
    },
    {
      "cell_type": "code",
      "metadata": {
        "id": "toTI6iV3B7f9",
        "colab_type": "code",
        "colab": {}
      },
      "source": [
        "np.random.seed(0)\n",
        "ft = FastText(min_count=mincount,size=vecsize,window=winsize)\n",
        "ft.build_vocab(sentences=words)\n",
        "ft.train(sentences=words,total_examples=len(words),epochs=totalepoch)"
      ],
      "execution_count": 0,
      "outputs": []
    },
    {
      "cell_type": "code",
      "metadata": {
        "id": "4FzzS4J2RtEC",
        "colab_type": "code",
        "colab": {}
      },
      "source": [
        "def load_vectors(sentence):\n",
        "    senlen = len(sentence.split())\n",
        "    maxlen = min(maxsenlen,senlen)\n",
        "    vec = [ft.wv[sentence[i]] for i  in range(maxlen) if sentence[i] in ft.wv.vocab]\n",
        "    if(len(vec)<maxsenlen):\n",
        "        vec+=[np.zeros(vecsize) for i in range(len(vec),maxsenlen)]\n",
        "    return np.asarray(vec)"
      ],
      "execution_count": 0,
      "outputs": []
    },
    {
      "cell_type": "code",
      "metadata": {
        "id": "lwIGXDIHRtHb",
        "colab_type": "code",
        "colab": {}
      },
      "source": [
        "train_vectors = np.zeros((train_l,maxsenlen,vecsize))\n",
        "for i in range(train_l):\n",
        "    train_vectors[i,:,:] = load_vectors(Xtrain[i])"
      ],
      "execution_count": 0,
      "outputs": []
    },
    {
      "cell_type": "code",
      "metadata": {
        "id": "1NtMN159RtKP",
        "colab_type": "code",
        "colab": {}
      },
      "source": [
        "val_vectors = np.zeros((val_l,maxsenlen,vecsize))\n",
        "for i in range(val_l):\n",
        "    val_vectors[i,:,:] = load_vectors(Xval[i])"
      ],
      "execution_count": 0,
      "outputs": []
    },
    {
      "cell_type": "code",
      "metadata": {
        "id": "TgkpNYs8RtOD",
        "colab_type": "code",
        "colab": {}
      },
      "source": [
        "test_vectors = np.zeros((test_l,maxsenlen,vecsize))\n",
        "for i in range(test_l):\n",
        "    test_vectors[i,:,:] = load_vectors(Xtest[i])"
      ],
      "execution_count": 0,
      "outputs": []
    },
    {
      "cell_type": "code",
      "metadata": {
        "id": "L1UAJslhRtRA",
        "colab_type": "code",
        "colab": {}
      },
      "source": [
        "def model_lstm():\n",
        "    inp = Input(shape=(maxsenlen,vecsize))\n",
        "    lstm1 = LSTM(100,recurrent_dropout=0.2,return_sequences=True)(inp)\n",
        "    lstm1 = LSTM(50,return_sequences=False)(lstm1)\n",
        "    out = Dense(1,activation='sigmoid')(lstm1)\n",
        "    \n",
        "    m1 = Model(inputs=inp,outputs=out)\n",
        "    return m1"
      ],
      "execution_count": 0,
      "outputs": []
    },
    {
      "cell_type": "code",
      "metadata": {
        "id": "xytBMbhMRtVO",
        "colab_type": "code",
        "outputId": "72ef7812-832f-4ca9-9eb5-67e27a1d84fc",
        "colab": {
          "base_uri": "https://localhost:8080/",
          "height": 340
        }
      },
      "source": [
        "runs = 5\n",
        "times= []\n",
        "avg_acc= 0.0\n",
        "avg_f1 = 0.0\n",
        "for run in range(runs):\n",
        "    model1 = model_lstm()\n",
        "    if(run==0):\n",
        "        print(model1.summary())\n",
        "    model1.compile(loss='binary_crossentropy',optimizer='adam',metrics=['accuracy'])\n",
        "    starttime = time.time()\n",
        "    stop = EarlyStopping(monitor='val_loss', min_delta=0, patience=10, verbose=0, mode='min')\n",
        "    check = ModelCheckpoint('temp.h5' ,monitor='val_loss', verbose=0, save_best_only=True, save_weights_only=True, mode='min', period=1)\n",
        "    model1.fit(train_vectors,ytrain,validation_data=(val_vectors,yval),callbacks=[stop,check],batch_size=batchsize,\n",
        "              epochs=numepochs,verbose=0)\n",
        "    times.append(time.time()-starttime)\n",
        "    ypred = model1.predict(test_vectors,128)\n",
        "    ypred = (ypred>0.5)\n",
        "    avg_f1+=f1_score(ypred,ytest)\n",
        "    avg_acc+=accuracy_score(ypred,ytest)\n",
        "    \n",
        "print(\"F1 Score {} \".format(avg_f1/runs))\n",
        "print(\"Accuracy Score {} \".format(avg_acc/runs))\n",
        "print(\"Avg_time  {}\".format(np.mean(np.asarray(times))))"
      ],
      "execution_count": 0,
      "outputs": [
        {
          "output_type": "stream",
          "text": [
            "_________________________________________________________________\n",
            "Layer (type)                 Output Shape              Param #   \n",
            "=================================================================\n",
            "input_33 (InputLayer)        (None, 30, 100)           0         \n",
            "_________________________________________________________________\n",
            "lstm_29 (LSTM)               (None, 30, 100)           80400     \n",
            "_________________________________________________________________\n",
            "lstm_30 (LSTM)               (None, 50)                30200     \n",
            "_________________________________________________________________\n",
            "dense_63 (Dense)             (None, 1)                 51        \n",
            "=================================================================\n",
            "Total params: 110,651\n",
            "Trainable params: 110,651\n",
            "Non-trainable params: 0\n",
            "_________________________________________________________________\n",
            "None\n",
            "F1 Score 0.4942114231982675 \n",
            "Accuracy Score 0.5365222284749578 \n",
            "Avg_time  362.170140171051\n"
          ],
          "name": "stdout"
        }
      ]
    },
    {
      "cell_type": "markdown",
      "metadata": {
        "id": "GVPJEPR5R7ob",
        "colab_type": "text"
      },
      "source": [
        "## PV(DBOW)+FNN"
      ]
    },
    {
      "cell_type": "code",
      "metadata": {
        "id": "fxAwuGLrR3x8",
        "colab_type": "code",
        "colab": {}
      },
      "source": [
        "tagged_documents = [TaggedDocument(doc, [i]) for i, doc in enumerate(words)]"
      ],
      "execution_count": 0,
      "outputs": []
    },
    {
      "cell_type": "code",
      "metadata": {
        "id": "xlW53X-eR36R",
        "colab_type": "code",
        "colab": {}
      },
      "source": [
        "np.random.seed(0)\n",
        "pv_dbow = Doc2Vec(vector_size=vecsize, window=2, min_count=1, workers=4)\n",
        "pv_dbow.build_vocab(tagged_documents)\n",
        "pv_dbow.train(tagged_documents,total_examples=pv_dbow.corpus_count,epochs=20)"
      ],
      "execution_count": 0,
      "outputs": []
    },
    {
      "cell_type": "code",
      "metadata": {
        "id": "GfWjxEolR4Am",
        "colab_type": "code",
        "colab": {}
      },
      "source": [
        "train_vectors = np.zeros((train_l,vecsize))\n",
        "for i in range(train_l):\n",
        "  train_vectors[i] = pv_dbow.infer_vector(Xtrain[i].split())"
      ],
      "execution_count": 0,
      "outputs": []
    },
    {
      "cell_type": "code",
      "metadata": {
        "id": "LzjB5uzSAOXI",
        "colab_type": "code",
        "colab": {}
      },
      "source": [
        "val_vectors = np.zeros((val_l,vecsize))\n",
        "for i in range(val_l):\n",
        "  val_vectors[i] = pv_dbow.infer_vector(Xval[i].split())"
      ],
      "execution_count": 0,
      "outputs": []
    },
    {
      "cell_type": "code",
      "metadata": {
        "id": "hUmwzT4rAWoQ",
        "colab_type": "code",
        "colab": {}
      },
      "source": [
        "test_vectors = np.zeros((test_l,vecsize))\n",
        "for i in range(test_l):\n",
        "  test_vectors[i] = pv_dbow.infer_vector(Xtest[i].split())"
      ],
      "execution_count": 0,
      "outputs": []
    },
    {
      "cell_type": "code",
      "metadata": {
        "id": "Emn78yDNAeAs",
        "colab_type": "code",
        "colab": {}
      },
      "source": [
        "def model_dense():\n",
        "    inp = Input(shape=(vecsize,))\n",
        "    dense1 = Dense(50,activation='relu')(inp)\n",
        "    dense1 = Dropout(0.5)(dense1)\n",
        "    dense1 = Dense(16,activation='relu')(dense1)\n",
        "    dense1 = Dropout(0.5)(dense1)\n",
        "    out = Dense(1,activation='sigmoid')(dense1)\n",
        "    m1 = Model(inputs=inp,outputs=out)\n",
        "    return m1"
      ],
      "execution_count": 0,
      "outputs": []
    },
    {
      "cell_type": "code",
      "metadata": {
        "id": "TV1_Vi9SAeHb",
        "colab_type": "code",
        "outputId": "94b841fa-b27b-4187-a1be-8a9963026fa4",
        "colab": {
          "base_uri": "https://localhost:8080/",
          "height": 408
        }
      },
      "source": [
        "np.random.seed(0)\n",
        "runs = 5\n",
        "times= []\n",
        "avg_acc= 0.0\n",
        "avg_f1 = 0.0\n",
        "for run in range(runs):\n",
        "    model2 = model_dense()\n",
        "    if(run==0):\n",
        "        print(model2.summary())\n",
        "    model2.compile(loss='binary_crossentropy',optimizer='adam',metrics=['accuracy'])\n",
        "    starttime = time.time()\n",
        "    stop = EarlyStopping(monitor='val_loss', min_delta=0, patience=10, verbose=0, mode='min')\n",
        "    check = ModelCheckpoint('temp.h5' ,monitor='val_loss', verbose=0, save_best_only=True, save_weights_only=True, mode='min', period=1)\n",
        "    model2.fit(train_vectors,ytrain,validation_data=(val_vectors,yval),callbacks=[stop,check],batch_size=batchsize,\n",
        "              epochs=numepochs,verbose=0)\n",
        "    times.append(time.time()-starttime)\n",
        "    ypred = model2.predict(test_vectors,128)\n",
        "    ypred = (ypred>0.5)\n",
        "    avg_f1+=f1_score(ypred,ytest)\n",
        "    avg_acc+=accuracy_score(ypred,ytest)\n",
        "    \n",
        "print(\"F1 Score {} \".format(avg_f1/runs))\n",
        "print(\"Accuracy Score {} \".format(avg_acc/runs))\n",
        "print(\"Avg_time  {}\".format(np.mean(np.asarray(times))))"
      ],
      "execution_count": 0,
      "outputs": [
        {
          "output_type": "stream",
          "text": [
            "_________________________________________________________________\n",
            "Layer (type)                 Output Shape              Param #   \n",
            "=================================================================\n",
            "input_38 (InputLayer)        (None, 100)               0         \n",
            "_________________________________________________________________\n",
            "dense_68 (Dense)             (None, 50)                5050      \n",
            "_________________________________________________________________\n",
            "dropout_38 (Dropout)         (None, 50)                0         \n",
            "_________________________________________________________________\n",
            "dense_69 (Dense)             (None, 16)                816       \n",
            "_________________________________________________________________\n",
            "dropout_39 (Dropout)         (None, 16)                0         \n",
            "_________________________________________________________________\n",
            "dense_70 (Dense)             (None, 1)                 17        \n",
            "=================================================================\n",
            "Total params: 5,883\n",
            "Trainable params: 5,883\n",
            "Non-trainable params: 0\n",
            "_________________________________________________________________\n",
            "None\n",
            "F1 Score 0.5960439404915739 \n",
            "Accuracy Score 0.5830050647158131 \n",
            "Avg_time  30.866462182998657\n"
          ],
          "name": "stdout"
        }
      ]
    },
    {
      "cell_type": "markdown",
      "metadata": {
        "id": "SMhjsI5VBJ5T",
        "colab_type": "text"
      },
      "source": [
        "### PV(DM)+FNN"
      ]
    },
    {
      "cell_type": "code",
      "metadata": {
        "id": "o_Kq4cUDBMb-",
        "colab_type": "code",
        "colab": {}
      },
      "source": [
        "np.random.seed(0)\n",
        "pv_dm = Doc2Vec(dm=1,vector_size=vecsize, window=2, min_count=1, workers=4)\n",
        "pv_dm.build_vocab(tagged_documents)\n",
        "pv_dm.train(tagged_documents,total_examples=pv_dm.corpus_count,epochs=20)"
      ],
      "execution_count": 0,
      "outputs": []
    },
    {
      "cell_type": "code",
      "metadata": {
        "id": "6SBVyziVBTD-",
        "colab_type": "code",
        "colab": {}
      },
      "source": [
        "train_vectors = np.zeros((train_l,vecsize))\n",
        "for i in range(train_l):\n",
        "  train_vectors[i] = pv_dm.infer_vector(Xtrain[i].split())"
      ],
      "execution_count": 0,
      "outputs": []
    },
    {
      "cell_type": "code",
      "metadata": {
        "id": "dvr8EpxKBUjM",
        "colab_type": "code",
        "colab": {}
      },
      "source": [
        "val_vectors = np.zeros((val_l,vecsize))\n",
        "for i in range(val_l):\n",
        "  val_vectors[i] = pv_dm.infer_vector(Xval[i].split())"
      ],
      "execution_count": 0,
      "outputs": []
    },
    {
      "cell_type": "code",
      "metadata": {
        "id": "q45psM-ZBUve",
        "colab_type": "code",
        "colab": {}
      },
      "source": [
        "test_vectors = np.zeros((test_l,vecsize))\n",
        "for i in range(test_l):\n",
        "  test_vectors[i] = pv_dm.infer_vector(Xtest[i].split())"
      ],
      "execution_count": 0,
      "outputs": []
    },
    {
      "cell_type": "code",
      "metadata": {
        "id": "vENSSbViBgjr",
        "colab_type": "code",
        "outputId": "7534bdc7-399d-46c3-d766-2bb5e0f00aae",
        "colab": {
          "base_uri": "https://localhost:8080/",
          "height": 408
        }
      },
      "source": [
        "np.random.seed(0)\n",
        "runs = 5\n",
        "times= []\n",
        "avg_acc= 0.0\n",
        "avg_f1 = 0.0\n",
        "for run in range(runs):\n",
        "    model2 = model_dense()\n",
        "    if(run==0):\n",
        "        print(model2.summary())\n",
        "    model2.compile(loss='binary_crossentropy',optimizer='adam',metrics=['accuracy'])\n",
        "    starttime = time.time()\n",
        "    stop = EarlyStopping(monitor='val_loss', min_delta=0, patience=10, verbose=0, mode='min')\n",
        "    check = ModelCheckpoint('temp.h5' ,monitor='val_loss', verbose=0, save_best_only=True, save_weights_only=True, mode='min', period=1)\n",
        "    model2.fit(train_vectors,ytrain,validation_data=(val_vectors,yval),callbacks=[stop,check],batch_size=batchsize,\n",
        "              epochs=numepochs,verbose=0)\n",
        "    times.append(time.time()-starttime)\n",
        "    ypred = model2.predict(test_vectors,128)\n",
        "    ypred = (ypred>0.5)\n",
        "    avg_f1+=f1_score(ypred,ytest)\n",
        "    avg_acc+=accuracy_score(ypred,ytest)\n",
        "    \n",
        "print(\"F1 Score {} \".format(avg_f1/runs))\n",
        "print(\"Accuracy Score {} \".format(avg_acc/runs))\n",
        "print(\"Avg_time  {}\".format(np.mean(np.asarray(times))))"
      ],
      "execution_count": 0,
      "outputs": [
        {
          "output_type": "stream",
          "text": [
            "_________________________________________________________________\n",
            "Layer (type)                 Output Shape              Param #   \n",
            "=================================================================\n",
            "input_43 (InputLayer)        (None, 100)               0         \n",
            "_________________________________________________________________\n",
            "dense_83 (Dense)             (None, 50)                5050      \n",
            "_________________________________________________________________\n",
            "dropout_48 (Dropout)         (None, 50)                0         \n",
            "_________________________________________________________________\n",
            "dense_84 (Dense)             (None, 16)                816       \n",
            "_________________________________________________________________\n",
            "dropout_49 (Dropout)         (None, 16)                0         \n",
            "_________________________________________________________________\n",
            "dense_85 (Dense)             (None, 1)                 17        \n",
            "=================================================================\n",
            "Total params: 5,883\n",
            "Trainable params: 5,883\n",
            "Non-trainable params: 0\n",
            "_________________________________________________________________\n",
            "None\n",
            "F1 Score 0.5885651818372837 \n",
            "Accuracy Score 0.5808103545301069 \n",
            "Avg_time  34.45551233291626\n"
          ],
          "name": "stdout"
        }
      ]
    },
    {
      "cell_type": "code",
      "metadata": {
        "id": "dZie0vsLG94S",
        "colab_type": "code",
        "colab": {}
      },
      "source": [
        "embedding_index = {}\n",
        "with open('glove.840B.300d.txt','r',encoding='utf-8') as f:\n",
        "  for line in f.readlines():\n",
        "    wv = line.split(' ')\n",
        "    word = wv[0]\n",
        "    vector = np.asarray(wv[1:],'float32')\n",
        "    embedding_index[word] = vector"
      ],
      "execution_count": 0,
      "outputs": []
    },
    {
      "cell_type": "code",
      "metadata": {
        "id": "OQRzJI1rDRPd",
        "colab_type": "code",
        "colab": {}
      },
      "source": [
        "maxsenlen = 30\n",
        "embeddim = 300"
      ],
      "execution_count": 0,
      "outputs": []
    },
    {
      "cell_type": "code",
      "metadata": {
        "id": "MLAaZV3rCfxe",
        "colab_type": "code",
        "colab": {}
      },
      "source": [
        "tok = Tokenizer()\n",
        "tok.fit_on_texts(Xtrain)\n",
        "\n",
        "word_index = tok.word_index\n",
        "\n",
        "train = tok.texts_to_sequences(Xtrain)\n",
        "train_vectors = pad_sequences(train,maxsenlen)\n",
        "\n",
        "val = tok.texts_to_sequences(Xval)\n",
        "val_vectors = pad_sequences(val,maxsenlen)\n",
        "\n",
        "test = tok.texts_to_sequences(Xtest)\n",
        "test_vectors = pad_sequences(test,maxsenlen)"
      ],
      "execution_count": 0,
      "outputs": []
    },
    {
      "cell_type": "code",
      "metadata": {
        "id": "oYC1acvCDJeu",
        "colab_type": "code",
        "colab": {}
      },
      "source": [
        "embedding_matrix = np.zeros((len(word_index)+1,embeddim))\n",
        "for word, i in word_index.items():\n",
        "  embedding_vector = embedding_index.get(word)\n",
        "  if embedding_vector is not None:\n",
        "    embedding_matrix[i] = embedding_vector"
      ],
      "execution_count": 0,
      "outputs": []
    },
    {
      "cell_type": "markdown",
      "metadata": {
        "id": "lPh3izpYDDBB",
        "colab_type": "text"
      },
      "source": [
        "### LSTM"
      ]
    },
    {
      "cell_type": "code",
      "metadata": {
        "id": "kOWfJXRlDEyl",
        "colab_type": "code",
        "colab": {}
      },
      "source": [
        "def lstm_model():\n",
        "  inp = Input(shape=(maxsenlen,))\n",
        "  \n",
        "  embed = Embedding(len(word_index)+1,embeddim,weights=[embedding_matrix],trainable=True)(inp)\n",
        "  \n",
        "  lstm_out = CuDNNLSTM(100,return_sequences=True)(embed)\n",
        "  lstm_out = CuDNNLSTM(50,return_sequences=False)(lstm_out)\n",
        "  \n",
        "  out = Dense(16,activation='relu')(lstm_out)\n",
        "  out = Dropout(0.5)(out)\n",
        "  out = Dense(1,activation='sigmoid')(out)\n",
        "  \n",
        "  m2 = Model(inputs=inp,outputs=[out])\n",
        "  return m2"
      ],
      "execution_count": 0,
      "outputs": []
    },
    {
      "cell_type": "code",
      "metadata": {
        "id": "DGvd2yayF8qP",
        "colab_type": "code",
        "outputId": "142771fd-9cef-4597-cebb-1287df680383",
        "colab": {
          "base_uri": "https://localhost:8080/",
          "height": 442
        }
      },
      "source": [
        "np.random.seed(0)\n",
        "runs = 5\n",
        "times= []\n",
        "avg_acc= 0.0\n",
        "avg_f1 = 0.0\n",
        "for run in range(runs):\n",
        "    model3 = lstm_model()\n",
        "    if(run==0):\n",
        "        print(model3.summary())\n",
        "    model3.compile(loss='binary_crossentropy',optimizer='adam',metrics=['accuracy'])\n",
        "    starttime = time.time()\n",
        "    stop = EarlyStopping(monitor='val_loss', min_delta=0, patience=10, verbose=0, mode='min')\n",
        "    check = ModelCheckpoint('temp.h5' ,monitor='val_loss', verbose=0, save_best_only=True, save_weights_only=True, mode='min', period=1)\n",
        "    model3.fit(train_vectors,ytrain,validation_data=(val_vectors,yval),callbacks=[stop,check],batch_size=batchsize,\n",
        "              epochs=numepochs,verbose=0)\n",
        "    times.append(time.time()-starttime)\n",
        "    ypred = model3.predict(test_vectors,128)\n",
        "    ypred = (ypred>0.5)\n",
        "    avg_f1+=f1_score(ypred,ytest)\n",
        "    avg_acc+=accuracy_score(ypred,ytest)\n",
        "    \n",
        "print(\"F1 Score {} \".format(avg_f1/runs))\n",
        "print(\"Accuracy Score {} \".format(avg_acc/runs))\n",
        "print(\"Avg_time  {}\".format(np.mean(np.asarray(times))))"
      ],
      "execution_count": 61,
      "outputs": [
        {
          "output_type": "stream",
          "text": [
            "_________________________________________________________________\n",
            "Layer (type)                 Output Shape              Param #   \n",
            "=================================================================\n",
            "input_110 (InputLayer)       (None, 30)                0         \n",
            "_________________________________________________________________\n",
            "embedding_110 (Embedding)    (None, 30, 300)           4176600   \n",
            "_________________________________________________________________\n",
            "cu_dnnlstm_213 (CuDNNLSTM)   (None, 30, 100)           160800    \n",
            "_________________________________________________________________\n",
            "cu_dnnlstm_214 (CuDNNLSTM)   (None, 50)                30400     \n",
            "_________________________________________________________________\n",
            "dense_213 (Dense)            (None, 16)                816       \n",
            "_________________________________________________________________\n",
            "dropout_102 (Dropout)        (None, 16)                0         \n",
            "_________________________________________________________________\n",
            "dense_214 (Dense)            (None, 1)                 17        \n",
            "=================================================================\n",
            "Total params: 4,368,633\n",
            "Trainable params: 4,368,633\n",
            "Non-trainable params: 0\n",
            "_________________________________________________________________\n",
            "None\n",
            "F1 Score 0.7601854180359493 \n",
            "Accuracy Score 0.7564997186268994 \n",
            "Avg_time  56.962926626205444\n"
          ],
          "name": "stdout"
        }
      ]
    },
    {
      "cell_type": "markdown",
      "metadata": {
        "id": "kIEErLZDGNoF",
        "colab_type": "text"
      },
      "source": [
        "## Bi-LSTM"
      ]
    },
    {
      "cell_type": "code",
      "metadata": {
        "id": "K2FQXj6WGPrL",
        "colab_type": "code",
        "colab": {}
      },
      "source": [
        "def bilstm_model():\n",
        "  inp = Input(shape=(maxsenlen,))\n",
        "  \n",
        "  embed = Embedding(len(word_index)+1,embeddim,weights=[embedding_matrix],trainable=True)(inp)\n",
        "  \n",
        "  lstm_out = Bidirectional(CuDNNLSTM(100,return_sequences=True))(embed)\n",
        "  lstm_out = Bidirectional(CuDNNLSTM(50,return_sequences=False))(lstm_out)\n",
        "  \n",
        "  out = Dense(16,activation='relu')(lstm_out)\n",
        "  out = Dropout(0.5)(out)\n",
        "  out = Dense(1,activation='sigmoid')(out)\n",
        "  \n",
        "  m3 = Model(inputs=inp,outputs=[out])\n",
        "  return m3"
      ],
      "execution_count": 0,
      "outputs": []
    },
    {
      "cell_type": "code",
      "metadata": {
        "id": "63qwfrofGegi",
        "colab_type": "code",
        "outputId": "2c37757d-4a3b-4d22-f9f0-db4692893d69",
        "colab": {
          "base_uri": "https://localhost:8080/",
          "height": 442
        }
      },
      "source": [
        "np.random.seed(0)\n",
        "runs = 5\n",
        "times= []\n",
        "avg_acc= 0.0\n",
        "avg_f1 = 0.0\n",
        "for run in range(runs):\n",
        "    model4 = bilstm_model()\n",
        "    if(run==0):\n",
        "        print(model4.summary())\n",
        "    model4.compile(loss='binary_crossentropy',optimizer='adam',metrics=['accuracy'])\n",
        "    starttime = time.time()\n",
        "    stop = EarlyStopping(monitor='val_loss', min_delta=0, patience=10, verbose=0, mode='min')\n",
        "    check = ModelCheckpoint('temp.h5' ,monitor='val_loss', verbose=0, save_best_only=True, save_weights_only=True, mode='min', period=1)\n",
        "    model4.fit(train_vectors,ytrain,validation_data=(val_vectors,yval),callbacks=[stop,check],batch_size=batchsize,\n",
        "              epochs=numepochs,verbose=0)\n",
        "    times.append(time.time()-starttime)\n",
        "    ypred = model4.predict(test_vectors,128)\n",
        "    ypred = (ypred>0.5)\n",
        "    avg_f1+=f1_score(ypred,ytest)\n",
        "    avg_acc+=accuracy_score(ypred,ytest)\n",
        "    \n",
        "print(\"F1 Score {} \".format(avg_f1/runs))\n",
        "print(\"Accuracy Score {} \".format(avg_acc/runs))\n",
        "print(\"Avg_time  {}\".format(np.mean(np.asarray(times))))"
      ],
      "execution_count": 60,
      "outputs": [
        {
          "output_type": "stream",
          "text": [
            "_________________________________________________________________\n",
            "Layer (type)                 Output Shape              Param #   \n",
            "=================================================================\n",
            "input_105 (InputLayer)       (None, 30)                0         \n",
            "_________________________________________________________________\n",
            "embedding_105 (Embedding)    (None, 30, 300)           4176600   \n",
            "_________________________________________________________________\n",
            "bidirectional_79 (Bidirectio (None, 30, 200)           321600    \n",
            "_________________________________________________________________\n",
            "bidirectional_80 (Bidirectio (None, 100)               100800    \n",
            "_________________________________________________________________\n",
            "dense_203 (Dense)            (None, 16)                1616      \n",
            "_________________________________________________________________\n",
            "dropout_97 (Dropout)         (None, 16)                0         \n",
            "_________________________________________________________________\n",
            "dense_204 (Dense)            (None, 1)                 17        \n",
            "=================================================================\n",
            "Total params: 4,600,633\n",
            "Trainable params: 4,600,633\n",
            "Non-trainable params: 0\n",
            "_________________________________________________________________\n",
            "None\n",
            "F1 Score 0.7589569388154086 \n",
            "Accuracy Score 0.7564997186268994 \n",
            "Avg_time  60.51798939704895\n"
          ],
          "name": "stdout"
        }
      ]
    },
    {
      "cell_type": "code",
      "metadata": {
        "id": "iWRxyyhtIqbg",
        "colab_type": "code",
        "colab": {}
      },
      "source": [
        "num_filters = 100\n",
        "filter_sizes = [3,4,5]\n",
        "drop = 0.5"
      ],
      "execution_count": 0,
      "outputs": []
    },
    {
      "cell_type": "markdown",
      "metadata": {
        "id": "jL1YFm1TIKxt",
        "colab_type": "text"
      },
      "source": [
        "## Random CNN"
      ]
    },
    {
      "cell_type": "code",
      "metadata": {
        "id": "otWPSEGBGrCz",
        "colab_type": "code",
        "colab": {}
      },
      "source": [
        "def random_cnn():\n",
        "  inp = Input(shape=(maxsenlen,), dtype='int32')\n",
        "  embedding = Embedding(input_dim=len(word_index)+1, output_dim=embeddim, input_length=maxsenlen)(inp)\n",
        "  reshape = Reshape((maxsenlen,embeddim,1))(embedding)\n",
        "\n",
        "  conv_0 = Conv2D(num_filters, kernel_size=(filter_sizes[0], embeddim), padding='valid', kernel_initializer='normal', activation='relu')(reshape)\n",
        "  conv_1 = Conv2D(num_filters, kernel_size=(filter_sizes[1], embeddim), padding='valid', kernel_initializer='normal', activation='relu')(reshape)\n",
        "  conv_2 = Conv2D(num_filters, kernel_size=(filter_sizes[2], embeddim), padding='valid', kernel_initializer='normal', activation='relu')(reshape)\n",
        "\n",
        "  maxpool_0 = MaxPool2D(pool_size=(maxsenlen - filter_sizes[0] + 1, 1), strides=(1,1), padding='valid')(conv_0)\n",
        "  maxpool_1 = MaxPool2D(pool_size=(maxsenlen - filter_sizes[1] + 1, 1), strides=(1,1), padding='valid')(conv_1)\n",
        "  maxpool_2 = MaxPool2D(pool_size=(maxsenlen - filter_sizes[2] + 1, 1), strides=(1,1), padding='valid')(conv_2)\n",
        "\n",
        "  concatenated_tensor = Concatenate(axis=1)([maxpool_0, maxpool_1, maxpool_2])\n",
        "  flatten = Flatten()(concatenated_tensor)\n",
        "  dropout = Dropout(drop)(flatten)\n",
        "  output = Dense(units=1, activation='sigmoid')(dropout)\n",
        "  \n",
        "  m4 = Model(inputs=inp,outputs=output)\n",
        "  return m4"
      ],
      "execution_count": 0,
      "outputs": []
    },
    {
      "cell_type": "code",
      "metadata": {
        "id": "0SBhJAaqJEOm",
        "colab_type": "code",
        "outputId": "2c470746-0a52-421f-e396-7b1ed8720755",
        "colab": {
          "base_uri": "https://localhost:8080/",
          "height": 680
        }
      },
      "source": [
        "np.random.seed(0)\n",
        "runs = 5\n",
        "times= []\n",
        "avg_acc= 0.0\n",
        "avg_f1 = 0.0\n",
        "for run in range(runs):\n",
        "    model5 = random_cnn()\n",
        "    if(run==0):\n",
        "        print(model5.summary())\n",
        "    model5.compile(loss='binary_crossentropy',optimizer='adam',metrics=['accuracy'])\n",
        "    starttime = time.time()\n",
        "    stop = EarlyStopping(monitor='val_loss', min_delta=0, patience=10, verbose=0, mode='min')\n",
        "    check = ModelCheckpoint('temp.h5' ,monitor='val_loss', verbose=0, save_best_only=True, save_weights_only=True, mode='min', period=1)\n",
        "    model5.fit(train_vectors,ytrain,validation_data=(val_vectors,yval),callbacks=[stop,check],batch_size=batchsize,\n",
        "              epochs=numepochs,verbose=0)\n",
        "    times.append(time.time()-starttime)\n",
        "    ypred = model5.predict(test_vectors,128)\n",
        "    ypred = (ypred>0.5)\n",
        "    avg_f1+=f1_score(ypred,ytest)\n",
        "    avg_acc+=accuracy_score(ypred,ytest)\n",
        "    \n",
        "print(\"F1 Score {} \".format(avg_f1/runs))\n",
        "print(\"Accuracy Score {} \".format(avg_acc/runs))\n",
        "print(\"Avg_time  {}\".format(np.mean(np.asarray(times))))"
      ],
      "execution_count": 0,
      "outputs": [
        {
          "output_type": "stream",
          "text": [
            "__________________________________________________________________________________________________\n",
            "Layer (type)                    Output Shape         Param #     Connected to                     \n",
            "==================================================================================================\n",
            "input_59 (InputLayer)           (None, 30)           0                                            \n",
            "__________________________________________________________________________________________________\n",
            "embedding_27 (Embedding)        (None, 30, 300)      4176600     input_59[0][0]                   \n",
            "__________________________________________________________________________________________________\n",
            "reshape_8 (Reshape)             (None, 30, 300, 1)   0           embedding_27[0][0]               \n",
            "__________________________________________________________________________________________________\n",
            "conv2d_22 (Conv2D)              (None, 28, 1, 100)   90100       reshape_8[0][0]                  \n",
            "__________________________________________________________________________________________________\n",
            "conv2d_23 (Conv2D)              (None, 27, 1, 100)   120100      reshape_8[0][0]                  \n",
            "__________________________________________________________________________________________________\n",
            "conv2d_24 (Conv2D)              (None, 26, 1, 100)   150100      reshape_8[0][0]                  \n",
            "__________________________________________________________________________________________________\n",
            "max_pooling2d_22 (MaxPooling2D) (None, 1, 1, 100)    0           conv2d_22[0][0]                  \n",
            "__________________________________________________________________________________________________\n",
            "max_pooling2d_23 (MaxPooling2D) (None, 1, 1, 100)    0           conv2d_23[0][0]                  \n",
            "__________________________________________________________________________________________________\n",
            "max_pooling2d_24 (MaxPooling2D) (None, 1, 1, 100)    0           conv2d_24[0][0]                  \n",
            "__________________________________________________________________________________________________\n",
            "concatenate_8 (Concatenate)     (None, 3, 1, 100)    0           max_pooling2d_22[0][0]           \n",
            "                                                                 max_pooling2d_23[0][0]           \n",
            "                                                                 max_pooling2d_24[0][0]           \n",
            "__________________________________________________________________________________________________\n",
            "flatten_8 (Flatten)             (None, 300)          0           concatenate_8[0][0]              \n",
            "__________________________________________________________________________________________________\n",
            "dropout_69 (Dropout)            (None, 300)          0           flatten_8[0][0]                  \n",
            "__________________________________________________________________________________________________\n",
            "dense_120 (Dense)               (None, 1)            301         dropout_69[0][0]                 \n",
            "==================================================================================================\n",
            "Total params: 4,537,201\n",
            "Trainable params: 4,537,201\n",
            "Non-trainable params: 0\n",
            "__________________________________________________________________________________________________\n",
            "None\n",
            "F1 Score 0.735146454180464 \n",
            "Accuracy Score 0.7320202588632526 \n",
            "Avg_time  49.798467302322386\n"
          ],
          "name": "stdout"
        }
      ]
    },
    {
      "cell_type": "markdown",
      "metadata": {
        "id": "l1D2zVmyJNh2",
        "colab_type": "text"
      },
      "source": [
        "### Static CNN"
      ]
    },
    {
      "cell_type": "code",
      "metadata": {
        "id": "Kko75slJJOon",
        "colab_type": "code",
        "colab": {}
      },
      "source": [
        "def static_cnn():\n",
        "  inp = Input(shape=(maxsenlen,), dtype='int32')\n",
        "  embedding = Embedding(input_dim=len(word_index)+1, output_dim=embeddim, weights=[embedding_matrix],trainable=False)(inp)\n",
        "  reshape = Reshape((maxsenlen,embedddim,1))(embedding)\n",
        "\n",
        "  conv_0 = Conv2D(num_filters, kernel_size=(filter_sizes[0], embeddim), padding='valid', kernel_initializer='normal', activation='relu')(reshape)\n",
        "  conv_1 = Conv2D(num_filters, kernel_size=(filter_sizes[1], embeddim), padding='valid', kernel_initializer='normal', activation='relu')(reshape)\n",
        "  conv_2 = Conv2D(num_filters, kernel_size=(filter_sizes[2], embeddim), padding='valid', kernel_initializer='normal', activation='relu')(reshape)\n",
        "\n",
        "  maxpool_0 = MaxPool2D(pool_size=(maxsenlen - filter_sizes[0] + 1, 1), strides=(1,1), padding='valid')(conv_0)\n",
        "  maxpool_1 = MaxPool2D(pool_size=(maxsenlen - filter_sizes[1] + 1, 1), strides=(1,1), padding='valid')(conv_1)\n",
        "  maxpool_2 = MaxPool2D(pool_size=(maxsenlen - filter_sizes[2] + 1, 1), strides=(1,1), padding='valid')(conv_2)\n",
        "\n",
        "  concatenated_tensor = Concatenate(axis=1)([maxpool_0, maxpool_1, maxpool_2])\n",
        "  flatten = Flatten()(concatenated_tensor)\n",
        "  dropout = Dropout(drop)(flatten)\n",
        "  output = Dense(units=1, activation='sigmoid')(dropout)\n",
        "  \n",
        "  m5 = Model(inputs=inp,outputs=output)\n",
        "  return m5"
      ],
      "execution_count": 0,
      "outputs": []
    },
    {
      "cell_type": "code",
      "metadata": {
        "id": "fRzXyau5JYzq",
        "colab_type": "code",
        "outputId": "3774d49e-2adf-4e01-d199-1500f8376056",
        "colab": {
          "base_uri": "https://localhost:8080/",
          "height": 680
        }
      },
      "source": [
        "np.random.seed(0)\n",
        "runs = 5\n",
        "times= []\n",
        "avg_acc= 0.0\n",
        "avg_f1 = 0.0\n",
        "for run in range(runs):\n",
        "    model6 = random_cnn()\n",
        "    if(run==0):\n",
        "        print(model6.summary())\n",
        "    model6.compile(loss='binary_crossentropy',optimizer='adam',metrics=['accuracy'])\n",
        "    starttime = time.time()\n",
        "    stop = EarlyStopping(monitor='val_loss', min_delta=0, patience=10, verbose=0, mode='min')\n",
        "    check = ModelCheckpoint('temp.h5' ,monitor='val_loss', verbose=0, save_best_only=True, save_weights_only=True, mode='min', period=1)\n",
        "    model6.fit(train_vectors,ytrain,validation_data=(val_vectors,yval),callbacks=[stop,check],batch_size=batchsize,\n",
        "              epochs=numepochs,verbose=0)\n",
        "    times.append(time.time()-starttime)\n",
        "    ypred = model6.predict(test_vectors,128)\n",
        "    ypred = (ypred>0.5)\n",
        "    avg_f1+=f1_score(ypred,ytest)\n",
        "    avg_acc+=accuracy_score(ypred,ytest)\n",
        "    \n",
        "print(\"F1 Score {} \".format(avg_f1/runs))\n",
        "print(\"Accuracy Score {} \".format(avg_acc/runs))\n",
        "print(\"Avg_time  {}\".format(np.mean(np.asarray(times))))"
      ],
      "execution_count": 0,
      "outputs": [
        {
          "output_type": "stream",
          "text": [
            "__________________________________________________________________________________________________\n",
            "Layer (type)                    Output Shape         Param #     Connected to                     \n",
            "==================================================================================================\n",
            "input_64 (InputLayer)           (None, 30)           0                                            \n",
            "__________________________________________________________________________________________________\n",
            "embedding_32 (Embedding)        (None, 30, 300)      4176600     input_64[0][0]                   \n",
            "__________________________________________________________________________________________________\n",
            "reshape_13 (Reshape)            (None, 30, 300, 1)   0           embedding_32[0][0]               \n",
            "__________________________________________________________________________________________________\n",
            "conv2d_37 (Conv2D)              (None, 28, 1, 100)   90100       reshape_13[0][0]                 \n",
            "__________________________________________________________________________________________________\n",
            "conv2d_38 (Conv2D)              (None, 27, 1, 100)   120100      reshape_13[0][0]                 \n",
            "__________________________________________________________________________________________________\n",
            "conv2d_39 (Conv2D)              (None, 26, 1, 100)   150100      reshape_13[0][0]                 \n",
            "__________________________________________________________________________________________________\n",
            "max_pooling2d_37 (MaxPooling2D) (None, 1, 1, 100)    0           conv2d_37[0][0]                  \n",
            "__________________________________________________________________________________________________\n",
            "max_pooling2d_38 (MaxPooling2D) (None, 1, 1, 100)    0           conv2d_38[0][0]                  \n",
            "__________________________________________________________________________________________________\n",
            "max_pooling2d_39 (MaxPooling2D) (None, 1, 1, 100)    0           conv2d_39[0][0]                  \n",
            "__________________________________________________________________________________________________\n",
            "concatenate_13 (Concatenate)    (None, 3, 1, 100)    0           max_pooling2d_37[0][0]           \n",
            "                                                                 max_pooling2d_38[0][0]           \n",
            "                                                                 max_pooling2d_39[0][0]           \n",
            "__________________________________________________________________________________________________\n",
            "flatten_13 (Flatten)            (None, 300)          0           concatenate_13[0][0]             \n",
            "__________________________________________________________________________________________________\n",
            "dropout_74 (Dropout)            (None, 300)          0           flatten_13[0][0]                 \n",
            "__________________________________________________________________________________________________\n",
            "dense_125 (Dense)               (None, 1)            301         dropout_74[0][0]                 \n",
            "==================================================================================================\n",
            "Total params: 4,537,201\n",
            "Trainable params: 4,537,201\n",
            "Non-trainable params: 0\n",
            "__________________________________________________________________________________________________\n",
            "None\n",
            "F1 Score 0.7354402050856345 \n",
            "Accuracy Score 0.7323016319639842 \n",
            "Avg_time  51.14128193855286\n"
          ],
          "name": "stdout"
        }
      ]
    },
    {
      "cell_type": "code",
      "metadata": {
        "id": "8aU0hD7ITJFz",
        "colab_type": "code",
        "colab": {}
      },
      "source": [
        ""
      ],
      "execution_count": 0,
      "outputs": []
    }
  ]
}